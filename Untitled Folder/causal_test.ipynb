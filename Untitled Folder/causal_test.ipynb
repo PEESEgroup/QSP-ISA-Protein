{
 "cells": [
  {
   "cell_type": "code",
   "execution_count": 1,
   "id": "8d26b026",
   "metadata": {},
   "outputs": [],
   "source": [
    "import torch\n",
    "import torch.nn as nn"
   ]
  },
  {
   "cell_type": "code",
   "execution_count": 2,
   "id": "fe248e28",
   "metadata": {},
   "outputs": [
    {
     "name": "stdout",
     "output_type": "stream",
     "text": [
      "a:  tensor([[[-0.1013, -1.0431, -1.4285,  0.5006,  1.0558,  0.8799,  1.6818,\n",
      "           0.1951],\n",
      "         [ 0.0916,  0.2678, -0.7502, -0.1286, -0.2115,  0.8808,  0.2679,\n",
      "          -0.9728],\n",
      "         [-0.7046,  0.6824,  0.0485, -0.0335,  1.8059,  0.5563, -1.3629,\n",
      "          -0.6695],\n",
      "         [-0.2626, -0.2957,  0.6606,  0.3222, -0.4751,  0.6031,  0.3484,\n",
      "           0.3862]]])\n",
      "b:  tensor([[[-0.1013, -1.0431, -1.4285,  0.5006,  1.0558,  0.8799,  1.6818,\n",
      "           0.1951],\n",
      "         [ 0.0916,  0.2678, -0.7502, -0.1286, -0.2115,  0.8808,  0.2679,\n",
      "          -0.9728],\n",
      "         [-0.7046,  0.6824,  0.0485, -0.0335,  1.8059,  0.5563, -1.3629,\n",
      "          -0.6695],\n",
      "         [-0.2626, -0.2957,  0.6606,  0.3222, -0.4751,  0.6031,  0.3484,\n",
      "           0.3862],\n",
      "         [ 1.2215, -3.1693, -0.8057, -0.5222, -0.4466,  0.5194,  0.1278,\n",
      "           0.2922]]])\n"
     ]
    }
   ],
   "source": [
    "a = torch.randn(1, 4, 8)\n",
    "b = torch.cat((a, torch.randn(1, 1, 8)), dim=1)\n",
    "\n",
    "print(\"a: \", a)\n",
    "print(\"b: \", b)"
   ]
  },
  {
   "cell_type": "code",
   "execution_count": 3,
   "id": "a71700ad",
   "metadata": {},
   "outputs": [
    {
     "name": "stdout",
     "output_type": "stream",
     "text": [
      "tensor([[[True, True, True, True, True, True, True, True],\n",
      "         [True, True, True, True, True, True, True, True],\n",
      "         [True, True, True, True, True, True, True, True],\n",
      "         [True, True, True, True, True, True, True, True]]])\n"
     ]
    }
   ],
   "source": [
    "l = nn.TransformerEncoderLayer(8, 4, batch_first=True)\n",
    "l.eval()\n",
    "first = l(a)\n",
    "second = l(a)\n",
    "print(first == second)"
   ]
  },
  {
   "cell_type": "code",
   "execution_count": 4,
   "id": "2e66c423",
   "metadata": {},
   "outputs": [
    {
     "name": "stdout",
     "output_type": "stream",
     "text": [
      "tensor([[[-0.3626, -1.2781, -1.6825,  0.2866,  0.9693,  1.1342,  1.0414,\n",
      "          -0.1082],\n",
      "         [ 0.2796,  0.8631, -1.0396, -0.6513,  0.0667,  1.9613, -0.1374,\n",
      "          -1.3424],\n",
      "         [-0.8873,  0.6790,  0.0490, -0.4531,  1.7557,  1.0024, -1.3509,\n",
      "          -0.7947],\n",
      "         [-0.8464, -0.9620,  1.1964, -0.0700, -1.4743,  1.5976,  0.1385,\n",
      "           0.4202]]], grad_fn=<NativeLayerNormBackward0>)\n",
      "tensor([[[-0.3587, -1.2900, -1.7592,  0.2498,  0.9208,  1.0599,  1.0277,\n",
      "           0.1497],\n",
      "         [ 0.2940,  0.8926, -1.1522, -0.7457, -0.0283,  2.0011, -0.1659,\n",
      "          -1.0956],\n",
      "         [-0.8447,  0.7424, -0.0091, -0.5650,  1.6834,  1.0698, -1.4134,\n",
      "          -0.6634],\n",
      "         [-0.8565, -0.8886,  0.9687, -0.2744, -1.5292,  1.4983,  0.1572,\n",
      "           0.9245],\n",
      "         [ 1.2441, -2.2403, -0.5662, -0.1943,  0.1119,  0.7420,  0.2228,\n",
      "           0.6800]]], grad_fn=<NativeLayerNormBackward0>)\n"
     ]
    }
   ],
   "source": [
    "print(l(a))\n",
    "print(l(b))"
   ]
  },
  {
   "cell_type": "code",
   "execution_count": 5,
   "id": "26091bf4",
   "metadata": {},
   "outputs": [
    {
     "name": "stdout",
     "output_type": "stream",
     "text": [
      "tensor([[[-0.3626, -1.2781, -1.6825,  0.2866,  0.9693,  1.1342,  1.0414,\n",
      "          -0.1082],\n",
      "         [ 0.2796,  0.8631, -1.0396, -0.6513,  0.0667,  1.9613, -0.1374,\n",
      "          -1.3424],\n",
      "         [-0.8873,  0.6790,  0.0490, -0.4531,  1.7557,  1.0024, -1.3509,\n",
      "          -0.7947],\n",
      "         [-0.8464, -0.9620,  1.1964, -0.0700, -1.4743,  1.5976,  0.1385,\n",
      "           0.4202]]], grad_fn=<NativeLayerNormBackward0>)\n",
      "tensor([[[-0.3587, -1.2900, -1.7592,  0.2498,  0.9208,  1.0599,  1.0277,\n",
      "           0.1497],\n",
      "         [ 0.2940,  0.8926, -1.1522, -0.7457, -0.0283,  2.0011, -0.1659,\n",
      "          -1.0956],\n",
      "         [-0.8447,  0.7424, -0.0091, -0.5650,  1.6834,  1.0698, -1.4134,\n",
      "          -0.6634],\n",
      "         [-0.8565, -0.8886,  0.9687, -0.2744, -1.5292,  1.4983,  0.1572,\n",
      "           0.9245],\n",
      "         [ 1.2441, -2.2403, -0.5662, -0.1943,  0.1119,  0.7420,  0.2228,\n",
      "           0.6800]]], grad_fn=<NativeLayerNormBackward0>)\n"
     ]
    }
   ],
   "source": [
    "print(l(a, is_causal=True))\n",
    "print(l(b, is_causal=True))"
   ]
  },
  {
   "cell_type": "code",
   "execution_count": null,
   "id": "c64a9b05",
   "metadata": {},
   "outputs": [],
   "source": []
  }
 ],
 "metadata": {
  "kernelspec": {
   "display_name": "Python 3 (ipykernel)",
   "language": "python",
   "name": "python3"
  },
  "language_info": {
   "codemirror_mode": {
    "name": "ipython",
    "version": 3
   },
   "file_extension": ".py",
   "mimetype": "text/x-python",
   "name": "python",
   "nbconvert_exporter": "python",
   "pygments_lexer": "ipython3",
   "version": "3.9.13"
  }
 },
 "nbformat": 4,
 "nbformat_minor": 5
}
